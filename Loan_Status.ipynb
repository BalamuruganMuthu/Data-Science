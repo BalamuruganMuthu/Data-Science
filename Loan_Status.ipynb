{
 "cells": [
  {
   "cell_type": "markdown",
   "id": "dfed7f7d",
   "metadata": {},
   "source": [
    "### Step 1: Load essential Python Libraries"
   ]
  },
  {
   "cell_type": "code",
   "execution_count": 151,
   "id": "ff2c2607",
   "metadata": {},
   "outputs": [],
   "source": [
    "import numpy as np \n",
    "import pandas as pd \n",
    "import matplotlib.pyplot as plt \n",
    "import seaborn as sns \n",
    "import os \n",
    "from sklearn.model_selection import train_test_split\n",
    "\n",
    "import warnings\n",
    "warnings.filterwarnings('ignore')"
   ]
  },
  {
   "cell_type": "markdown",
   "id": "e4ea2a9f",
   "metadata": {},
   "source": [
    "### Step 2: Load Training/Test datasets in Python environment"
   ]
  },
  {
   "cell_type": "code",
   "execution_count": 152,
   "id": "7e817e9d",
   "metadata": {},
   "outputs": [],
   "source": [
    "train = pd.read_csv(\"https://datahack-prod.s3.amazonaws.com/train_file/train_ctrUa4K.csv\")\n",
    "test = pd.read_csv(\"https://datahack-prod.s3.amazonaws.com/test_file/test_lAUu6dG.csv\")\n",
    "submission = pd.read_csv(\"https://datahack-prod.s3.amazonaws.com/sample_submission/sample_submission_49d68Cx.csv\")"
   ]
  },
  {
   "cell_type": "code",
   "execution_count": 153,
   "id": "da568d86",
   "metadata": {},
   "outputs": [
    {
     "name": "stdout",
     "output_type": "stream",
     "text": [
      "Train dataset shape: (614, 13), \n",
      "Test dataset shape: (367, 12)\n"
     ]
    }
   ],
   "source": [
    "print(\"Train dataset shape: {0}, \\nTest dataset shape: {1}\".format(train.shape, test.shape))"
   ]
  },
  {
   "cell_type": "code",
   "execution_count": 154,
   "id": "8d151163",
   "metadata": {},
   "outputs": [
    {
     "data": {
      "text/html": [
       "<div>\n",
       "<style scoped>\n",
       "    .dataframe tbody tr th:only-of-type {\n",
       "        vertical-align: middle;\n",
       "    }\n",
       "\n",
       "    .dataframe tbody tr th {\n",
       "        vertical-align: top;\n",
       "    }\n",
       "\n",
       "    .dataframe thead th {\n",
       "        text-align: right;\n",
       "    }\n",
       "</style>\n",
       "<table border=\"1\" class=\"dataframe\">\n",
       "  <thead>\n",
       "    <tr style=\"text-align: right;\">\n",
       "      <th></th>\n",
       "      <th>Loan_ID</th>\n",
       "      <th>Loan_Status</th>\n",
       "    </tr>\n",
       "  </thead>\n",
       "  <tbody>\n",
       "    <tr>\n",
       "      <th>0</th>\n",
       "      <td>LP001015</td>\n",
       "      <td>N</td>\n",
       "    </tr>\n",
       "    <tr>\n",
       "      <th>1</th>\n",
       "      <td>LP001022</td>\n",
       "      <td>N</td>\n",
       "    </tr>\n",
       "    <tr>\n",
       "      <th>2</th>\n",
       "      <td>LP001031</td>\n",
       "      <td>N</td>\n",
       "    </tr>\n",
       "    <tr>\n",
       "      <th>3</th>\n",
       "      <td>LP001035</td>\n",
       "      <td>N</td>\n",
       "    </tr>\n",
       "    <tr>\n",
       "      <th>4</th>\n",
       "      <td>LP001051</td>\n",
       "      <td>N</td>\n",
       "    </tr>\n",
       "  </tbody>\n",
       "</table>\n",
       "</div>"
      ],
      "text/plain": [
       "    Loan_ID Loan_Status\n",
       "0  LP001015           N\n",
       "1  LP001022           N\n",
       "2  LP001031           N\n",
       "3  LP001035           N\n",
       "4  LP001051           N"
      ]
     },
     "execution_count": 154,
     "metadata": {},
     "output_type": "execute_result"
    }
   ],
   "source": [
    "submission.head()"
   ]
  },
  {
   "cell_type": "code",
   "execution_count": 155,
   "id": "621d1ccf",
   "metadata": {},
   "outputs": [
    {
     "data": {
      "text/html": [
       "<div>\n",
       "<style scoped>\n",
       "    .dataframe tbody tr th:only-of-type {\n",
       "        vertical-align: middle;\n",
       "    }\n",
       "\n",
       "    .dataframe tbody tr th {\n",
       "        vertical-align: top;\n",
       "    }\n",
       "\n",
       "    .dataframe thead th {\n",
       "        text-align: right;\n",
       "    }\n",
       "</style>\n",
       "<table border=\"1\" class=\"dataframe\">\n",
       "  <thead>\n",
       "    <tr style=\"text-align: right;\">\n",
       "      <th></th>\n",
       "      <th>Loan_ID</th>\n",
       "      <th>Gender</th>\n",
       "      <th>Married</th>\n",
       "      <th>Dependents</th>\n",
       "      <th>Education</th>\n",
       "      <th>Self_Employed</th>\n",
       "      <th>ApplicantIncome</th>\n",
       "      <th>CoapplicantIncome</th>\n",
       "      <th>LoanAmount</th>\n",
       "      <th>Loan_Amount_Term</th>\n",
       "      <th>Credit_History</th>\n",
       "      <th>Property_Area</th>\n",
       "    </tr>\n",
       "  </thead>\n",
       "  <tbody>\n",
       "    <tr>\n",
       "      <th>0</th>\n",
       "      <td>LP001015</td>\n",
       "      <td>Male</td>\n",
       "      <td>Yes</td>\n",
       "      <td>0</td>\n",
       "      <td>Graduate</td>\n",
       "      <td>No</td>\n",
       "      <td>5720</td>\n",
       "      <td>0</td>\n",
       "      <td>110.0</td>\n",
       "      <td>360.0</td>\n",
       "      <td>1.0</td>\n",
       "      <td>Urban</td>\n",
       "    </tr>\n",
       "    <tr>\n",
       "      <th>1</th>\n",
       "      <td>LP001022</td>\n",
       "      <td>Male</td>\n",
       "      <td>Yes</td>\n",
       "      <td>1</td>\n",
       "      <td>Graduate</td>\n",
       "      <td>No</td>\n",
       "      <td>3076</td>\n",
       "      <td>1500</td>\n",
       "      <td>126.0</td>\n",
       "      <td>360.0</td>\n",
       "      <td>1.0</td>\n",
       "      <td>Urban</td>\n",
       "    </tr>\n",
       "    <tr>\n",
       "      <th>2</th>\n",
       "      <td>LP001031</td>\n",
       "      <td>Male</td>\n",
       "      <td>Yes</td>\n",
       "      <td>2</td>\n",
       "      <td>Graduate</td>\n",
       "      <td>No</td>\n",
       "      <td>5000</td>\n",
       "      <td>1800</td>\n",
       "      <td>208.0</td>\n",
       "      <td>360.0</td>\n",
       "      <td>1.0</td>\n",
       "      <td>Urban</td>\n",
       "    </tr>\n",
       "    <tr>\n",
       "      <th>3</th>\n",
       "      <td>LP001035</td>\n",
       "      <td>Male</td>\n",
       "      <td>Yes</td>\n",
       "      <td>2</td>\n",
       "      <td>Graduate</td>\n",
       "      <td>No</td>\n",
       "      <td>2340</td>\n",
       "      <td>2546</td>\n",
       "      <td>100.0</td>\n",
       "      <td>360.0</td>\n",
       "      <td>NaN</td>\n",
       "      <td>Urban</td>\n",
       "    </tr>\n",
       "    <tr>\n",
       "      <th>4</th>\n",
       "      <td>LP001051</td>\n",
       "      <td>Male</td>\n",
       "      <td>No</td>\n",
       "      <td>0</td>\n",
       "      <td>Not Graduate</td>\n",
       "      <td>No</td>\n",
       "      <td>3276</td>\n",
       "      <td>0</td>\n",
       "      <td>78.0</td>\n",
       "      <td>360.0</td>\n",
       "      <td>1.0</td>\n",
       "      <td>Urban</td>\n",
       "    </tr>\n",
       "  </tbody>\n",
       "</table>\n",
       "</div>"
      ],
      "text/plain": [
       "    Loan_ID Gender Married Dependents     Education Self_Employed  \\\n",
       "0  LP001015   Male     Yes          0      Graduate            No   \n",
       "1  LP001022   Male     Yes          1      Graduate            No   \n",
       "2  LP001031   Male     Yes          2      Graduate            No   \n",
       "3  LP001035   Male     Yes          2      Graduate            No   \n",
       "4  LP001051   Male      No          0  Not Graduate            No   \n",
       "\n",
       "   ApplicantIncome  CoapplicantIncome  LoanAmount  Loan_Amount_Term  \\\n",
       "0             5720                  0       110.0             360.0   \n",
       "1             3076               1500       126.0             360.0   \n",
       "2             5000               1800       208.0             360.0   \n",
       "3             2340               2546       100.0             360.0   \n",
       "4             3276                  0        78.0             360.0   \n",
       "\n",
       "   Credit_History Property_Area  \n",
       "0             1.0         Urban  \n",
       "1             1.0         Urban  \n",
       "2             1.0         Urban  \n",
       "3             NaN         Urban  \n",
       "4             1.0         Urban  "
      ]
     },
     "execution_count": 155,
     "metadata": {},
     "output_type": "execute_result"
    }
   ],
   "source": [
    "test.head()"
   ]
  },
  {
   "cell_type": "code",
   "execution_count": 156,
   "id": "d17ac0de",
   "metadata": {},
   "outputs": [
    {
     "name": "stdout",
     "output_type": "stream",
     "text": [
      "(614, 14) (367, 14) (981, 14)\n"
     ]
    }
   ],
   "source": [
    "# need to predict Loan_Status for given test data - Classification Problem\n",
    "# first merge the train and test data for Exploratory Data Analysis\n",
    "train['Source'] = 'train'\n",
    "test['Source'] = 'test'\n",
    "test['Loan_Status'] = 'N'\n",
    "df = pd.concat([train, test], sort = False)\n",
    "print(train.shape, test.shape, df.shape)"
   ]
  },
  {
   "cell_type": "code",
   "execution_count": 157,
   "id": "c4498210",
   "metadata": {},
   "outputs": [
    {
     "data": {
      "text/plain": [
       "Index(['Loan_ID', 'Gender', 'Married', 'Dependents', 'Education',\n",
       "       'Self_Employed', 'ApplicantIncome', 'CoapplicantIncome', 'LoanAmount',\n",
       "       'Loan_Amount_Term', 'Credit_History', 'Property_Area', 'Loan_Status',\n",
       "       'Source'],\n",
       "      dtype='object')"
      ]
     },
     "execution_count": 157,
     "metadata": {},
     "output_type": "execute_result"
    }
   ],
   "source": [
    "df.columns"
   ]
  },
  {
   "cell_type": "code",
   "execution_count": 158,
   "id": "16d528d5",
   "metadata": {},
   "outputs": [
    {
     "name": "stdout",
     "output_type": "stream",
     "text": [
      "<class 'pandas.core.frame.DataFrame'>\n",
      "Int64Index: 981 entries, 0 to 366\n",
      "Data columns (total 14 columns):\n",
      " #   Column             Non-Null Count  Dtype  \n",
      "---  ------             --------------  -----  \n",
      " 0   Loan_ID            981 non-null    object \n",
      " 1   Gender             957 non-null    object \n",
      " 2   Married            978 non-null    object \n",
      " 3   Dependents         956 non-null    object \n",
      " 4   Education          981 non-null    object \n",
      " 5   Self_Employed      926 non-null    object \n",
      " 6   ApplicantIncome    981 non-null    int64  \n",
      " 7   CoapplicantIncome  981 non-null    float64\n",
      " 8   LoanAmount         954 non-null    float64\n",
      " 9   Loan_Amount_Term   961 non-null    float64\n",
      " 10  Credit_History     902 non-null    float64\n",
      " 11  Property_Area      981 non-null    object \n",
      " 12  Loan_Status        981 non-null    object \n",
      " 13  Source             981 non-null    object \n",
      "dtypes: float64(4), int64(1), object(9)\n",
      "memory usage: 115.0+ KB\n"
     ]
    }
   ],
   "source": [
    "df.info()"
   ]
  },
  {
   "cell_type": "code",
   "execution_count": 159,
   "id": "783ee578",
   "metadata": {},
   "outputs": [
    {
     "data": {
      "text/html": [
       "<div>\n",
       "<style scoped>\n",
       "    .dataframe tbody tr th:only-of-type {\n",
       "        vertical-align: middle;\n",
       "    }\n",
       "\n",
       "    .dataframe tbody tr th {\n",
       "        vertical-align: top;\n",
       "    }\n",
       "\n",
       "    .dataframe thead th {\n",
       "        text-align: right;\n",
       "    }\n",
       "</style>\n",
       "<table border=\"1\" class=\"dataframe\">\n",
       "  <thead>\n",
       "    <tr style=\"text-align: right;\">\n",
       "      <th></th>\n",
       "      <th>ApplicantIncome</th>\n",
       "      <th>CoapplicantIncome</th>\n",
       "      <th>LoanAmount</th>\n",
       "      <th>Loan_Amount_Term</th>\n",
       "      <th>Credit_History</th>\n",
       "    </tr>\n",
       "  </thead>\n",
       "  <tbody>\n",
       "    <tr>\n",
       "      <th>count</th>\n",
       "      <td>981.000000</td>\n",
       "      <td>981.000000</td>\n",
       "      <td>954.000000</td>\n",
       "      <td>961.000000</td>\n",
       "      <td>902.000000</td>\n",
       "    </tr>\n",
       "    <tr>\n",
       "      <th>mean</th>\n",
       "      <td>5179.795107</td>\n",
       "      <td>1601.916330</td>\n",
       "      <td>142.511530</td>\n",
       "      <td>342.201873</td>\n",
       "      <td>0.835920</td>\n",
       "    </tr>\n",
       "    <tr>\n",
       "      <th>std</th>\n",
       "      <td>5695.104533</td>\n",
       "      <td>2718.772806</td>\n",
       "      <td>77.421743</td>\n",
       "      <td>65.100602</td>\n",
       "      <td>0.370553</td>\n",
       "    </tr>\n",
       "    <tr>\n",
       "      <th>min</th>\n",
       "      <td>0.000000</td>\n",
       "      <td>0.000000</td>\n",
       "      <td>9.000000</td>\n",
       "      <td>6.000000</td>\n",
       "      <td>0.000000</td>\n",
       "    </tr>\n",
       "    <tr>\n",
       "      <th>25%</th>\n",
       "      <td>2875.000000</td>\n",
       "      <td>0.000000</td>\n",
       "      <td>100.000000</td>\n",
       "      <td>360.000000</td>\n",
       "      <td>1.000000</td>\n",
       "    </tr>\n",
       "    <tr>\n",
       "      <th>50%</th>\n",
       "      <td>3800.000000</td>\n",
       "      <td>1110.000000</td>\n",
       "      <td>126.000000</td>\n",
       "      <td>360.000000</td>\n",
       "      <td>1.000000</td>\n",
       "    </tr>\n",
       "    <tr>\n",
       "      <th>75%</th>\n",
       "      <td>5516.000000</td>\n",
       "      <td>2365.000000</td>\n",
       "      <td>162.000000</td>\n",
       "      <td>360.000000</td>\n",
       "      <td>1.000000</td>\n",
       "    </tr>\n",
       "    <tr>\n",
       "      <th>max</th>\n",
       "      <td>81000.000000</td>\n",
       "      <td>41667.000000</td>\n",
       "      <td>700.000000</td>\n",
       "      <td>480.000000</td>\n",
       "      <td>1.000000</td>\n",
       "    </tr>\n",
       "  </tbody>\n",
       "</table>\n",
       "</div>"
      ],
      "text/plain": [
       "       ApplicantIncome  CoapplicantIncome  LoanAmount  Loan_Amount_Term  \\\n",
       "count       981.000000         981.000000  954.000000        961.000000   \n",
       "mean       5179.795107        1601.916330  142.511530        342.201873   \n",
       "std        5695.104533        2718.772806   77.421743         65.100602   \n",
       "min           0.000000           0.000000    9.000000          6.000000   \n",
       "25%        2875.000000           0.000000  100.000000        360.000000   \n",
       "50%        3800.000000        1110.000000  126.000000        360.000000   \n",
       "75%        5516.000000        2365.000000  162.000000        360.000000   \n",
       "max       81000.000000       41667.000000  700.000000        480.000000   \n",
       "\n",
       "       Credit_History  \n",
       "count      902.000000  \n",
       "mean         0.835920  \n",
       "std          0.370553  \n",
       "min          0.000000  \n",
       "25%          1.000000  \n",
       "50%          1.000000  \n",
       "75%          1.000000  \n",
       "max          1.000000  "
      ]
     },
     "execution_count": 159,
     "metadata": {},
     "output_type": "execute_result"
    }
   ],
   "source": [
    "df.describe()"
   ]
  },
  {
   "cell_type": "markdown",
   "id": "cfa27d30",
   "metadata": {},
   "source": [
    "#### Categorical Columns"
   ]
  },
  {
   "cell_type": "code",
   "execution_count": 160,
   "id": "9a387347",
   "metadata": {},
   "outputs": [
    {
     "data": {
      "text/plain": [
       "['Loan_ID',\n",
       " 'Gender',\n",
       " 'Married',\n",
       " 'Dependents',\n",
       " 'Education',\n",
       " 'Self_Employed',\n",
       " 'Property_Area',\n",
       " 'Loan_Status',\n",
       " 'Source']"
      ]
     },
     "execution_count": 160,
     "metadata": {},
     "output_type": "execute_result"
    }
   ],
   "source": [
    "# check for categorical attributes\n",
    "cat_col = []\n",
    "for x in df.dtypes.index:\n",
    "    if df.dtypes[x] == 'object':\n",
    "        cat_col.append(x)\n",
    "cat_col"
   ]
  },
  {
   "cell_type": "code",
   "execution_count": 161,
   "id": "054b8f53",
   "metadata": {},
   "outputs": [
    {
     "data": {
      "text/html": [
       "<div>\n",
       "<style scoped>\n",
       "    .dataframe tbody tr th:only-of-type {\n",
       "        vertical-align: middle;\n",
       "    }\n",
       "\n",
       "    .dataframe tbody tr th {\n",
       "        vertical-align: top;\n",
       "    }\n",
       "\n",
       "    .dataframe thead th {\n",
       "        text-align: right;\n",
       "    }\n",
       "</style>\n",
       "<table border=\"1\" class=\"dataframe\">\n",
       "  <thead>\n",
       "    <tr style=\"text-align: right;\">\n",
       "      <th></th>\n",
       "      <th>Loan_ID</th>\n",
       "      <th>Gender</th>\n",
       "      <th>Married</th>\n",
       "      <th>Dependents</th>\n",
       "      <th>Education</th>\n",
       "      <th>Self_Employed</th>\n",
       "      <th>Property_Area</th>\n",
       "      <th>Loan_Status</th>\n",
       "      <th>Source</th>\n",
       "    </tr>\n",
       "  </thead>\n",
       "  <tbody>\n",
       "    <tr>\n",
       "      <th>0</th>\n",
       "      <td>LP001002</td>\n",
       "      <td>Male</td>\n",
       "      <td>No</td>\n",
       "      <td>0</td>\n",
       "      <td>Graduate</td>\n",
       "      <td>No</td>\n",
       "      <td>Urban</td>\n",
       "      <td>Y</td>\n",
       "      <td>train</td>\n",
       "    </tr>\n",
       "    <tr>\n",
       "      <th>1</th>\n",
       "      <td>LP001003</td>\n",
       "      <td>Male</td>\n",
       "      <td>Yes</td>\n",
       "      <td>1</td>\n",
       "      <td>Graduate</td>\n",
       "      <td>No</td>\n",
       "      <td>Rural</td>\n",
       "      <td>N</td>\n",
       "      <td>train</td>\n",
       "    </tr>\n",
       "  </tbody>\n",
       "</table>\n",
       "</div>"
      ],
      "text/plain": [
       "    Loan_ID Gender Married Dependents Education Self_Employed Property_Area  \\\n",
       "0  LP001002   Male      No          0  Graduate            No         Urban   \n",
       "1  LP001003   Male     Yes          1  Graduate            No         Rural   \n",
       "\n",
       "  Loan_Status Source  \n",
       "0           Y  train  \n",
       "1           N  train  "
      ]
     },
     "execution_count": 161,
     "metadata": {},
     "output_type": "execute_result"
    }
   ],
   "source": [
    "categorial_features = df.select_dtypes(include ='object')\n",
    "categorial_features.head(2)"
   ]
  },
  {
   "cell_type": "markdown",
   "id": "5469b92b",
   "metadata": {},
   "source": [
    "#### Numerical Columns"
   ]
  },
  {
   "cell_type": "code",
   "execution_count": 162,
   "id": "fe636b1e",
   "metadata": {},
   "outputs": [
    {
     "data": {
      "text/html": [
       "<div>\n",
       "<style scoped>\n",
       "    .dataframe tbody tr th:only-of-type {\n",
       "        vertical-align: middle;\n",
       "    }\n",
       "\n",
       "    .dataframe tbody tr th {\n",
       "        vertical-align: top;\n",
       "    }\n",
       "\n",
       "    .dataframe thead th {\n",
       "        text-align: right;\n",
       "    }\n",
       "</style>\n",
       "<table border=\"1\" class=\"dataframe\">\n",
       "  <thead>\n",
       "    <tr style=\"text-align: right;\">\n",
       "      <th></th>\n",
       "      <th>ApplicantIncome</th>\n",
       "      <th>CoapplicantIncome</th>\n",
       "      <th>LoanAmount</th>\n",
       "      <th>Loan_Amount_Term</th>\n",
       "      <th>Credit_History</th>\n",
       "    </tr>\n",
       "  </thead>\n",
       "  <tbody>\n",
       "    <tr>\n",
       "      <th>0</th>\n",
       "      <td>5849</td>\n",
       "      <td>0.0</td>\n",
       "      <td>NaN</td>\n",
       "      <td>360.0</td>\n",
       "      <td>1.0</td>\n",
       "    </tr>\n",
       "    <tr>\n",
       "      <th>1</th>\n",
       "      <td>4583</td>\n",
       "      <td>1508.0</td>\n",
       "      <td>128.0</td>\n",
       "      <td>360.0</td>\n",
       "      <td>1.0</td>\n",
       "    </tr>\n",
       "  </tbody>\n",
       "</table>\n",
       "</div>"
      ],
      "text/plain": [
       "   ApplicantIncome  CoapplicantIncome  LoanAmount  Loan_Amount_Term  \\\n",
       "0             5849                0.0         NaN             360.0   \n",
       "1             4583             1508.0       128.0             360.0   \n",
       "\n",
       "   Credit_History  \n",
       "0             1.0  \n",
       "1             1.0  "
      ]
     },
     "execution_count": 162,
     "metadata": {},
     "output_type": "execute_result"
    }
   ],
   "source": [
    "numerical_features = df.select_dtypes(include=[np.number])\n",
    "numerical_features.head(2)"
   ]
  },
  {
   "cell_type": "markdown",
   "id": "d3ca056a",
   "metadata": {},
   "source": [
    "#### Drop unwanted columns"
   ]
  },
  {
   "cell_type": "code",
   "execution_count": 163,
   "id": "c6848e63",
   "metadata": {},
   "outputs": [],
   "source": [
    "df.drop(['Loan_ID'],axis=1,inplace=True) # Delete Loan_ID from the dataset \n",
    "data = df"
   ]
  },
  {
   "cell_type": "code",
   "execution_count": 164,
   "id": "58cf4ba4",
   "metadata": {},
   "outputs": [
    {
     "data": {
      "text/plain": [
       "Gender               24\n",
       "Married               3\n",
       "Dependents           25\n",
       "Education             0\n",
       "Self_Employed        55\n",
       "ApplicantIncome       0\n",
       "CoapplicantIncome     0\n",
       "LoanAmount           27\n",
       "Loan_Amount_Term     20\n",
       "Credit_History       79\n",
       "Property_Area         0\n",
       "Loan_Status           0\n",
       "Source                0\n",
       "dtype: int64"
      ]
     },
     "execution_count": 164,
     "metadata": {},
     "output_type": "execute_result"
    }
   ],
   "source": [
    "data.isnull().sum()"
   ]
  },
  {
   "cell_type": "markdown",
   "id": "9c9dfab7",
   "metadata": {},
   "source": [
    "### Step 3: Exploratory Data Analysis (EDA)"
   ]
  },
  {
   "cell_type": "markdown",
   "id": "1abd443a",
   "metadata": {},
   "source": [
    "#### Univariate Analysis"
   ]
  },
  {
   "cell_type": "code",
   "execution_count": 165,
   "id": "a0066d38",
   "metadata": {},
   "outputs": [
    {
     "data": {
      "text/plain": [
       "<AxesSubplot:xlabel='Dependents', ylabel='count'>"
      ]
     },
     "execution_count": 165,
     "metadata": {},
     "output_type": "execute_result"
    },
    {
     "data": {
      "image/png": "[encoded data removed]",
      "text/plain": [
       "<Figure size 1152x720 with 8 Axes>"
      ]
     },
     "metadata": {},
     "output_type": "display_data"
    }
   ],
   "source": [
    "#Univariate Analysis\n",
    "fig,ax = plt.subplots(2,4,figsize=(16,10))\n",
    "sns.countplot('Loan_Status',data=data,ax=ax[0][0])\n",
    "sns.countplot('Gender',data=data,ax=ax[0][1])\n",
    "sns.countplot('Married',data=data,ax=ax[0][2])\n",
    "sns.countplot('Education',data=data,ax=ax[0][3])\n",
    "sns.countplot('Self_Employed',data=data,ax=ax[1][0])\n",
    "sns.countplot('Property_Area',data=data,ax=ax[1][1])\n",
    "sns.countplot('Credit_History',data=data,ax=ax[1][2])\n",
    "sns.countplot('Dependents',data=data,ax=ax[1][3])"
   ]
  },
  {
   "cell_type": "markdown",
   "id": "ae09d246",
   "metadata": {},
   "source": [
    "#### Univariate analysis Observations:\n",
    "\n",
    "* More Loans are Rejected Vs Approved\n",
    "* Count of Male applicants is more than Female\n",
    "* Count of Married applicant is more than Non-married\n",
    "* Count of graduate are more than non-Graduate\n",
    "* Count of self-employed is less than that of Non-Self-employed\n",
    "* Maximum properties are located in Semiurban areas\n",
    "* Credit History is present for many applicants\n",
    "* Count of applicants with number of dependents=0 is maximum."
   ]
  },
  {
   "cell_type": "markdown",
   "id": "dc659d29",
   "metadata": {},
   "source": [
    "#### Bivariate Analysis"
   ]
  },
  {
   "cell_type": "code",
   "execution_count": 166,
   "id": "e6d815f8",
   "metadata": {},
   "outputs": [
    {
     "data": {
      "text/plain": [
       "<matplotlib.pyplot._IoffContext at 0x2338e0f56a0>"
      ]
     },
     "execution_count": 166,
     "metadata": {},
     "output_type": "execute_result"
    },
    {
     "data": {
      "image/png": "[encoded data removed]",
      "text/plain": [
       "<Figure size 576x432 with 2 Axes>"
      ]
     },
     "metadata": {},
     "output_type": "display_data"
    }
   ],
   "source": [
    "# Explore variable 'Married' with target variable - 'Loan_Status'\n",
    "\n",
    "f,ax=plt.subplots(1,2,figsize=(8,6))\n",
    "data['Loan_Status'].value_counts().plot.pie(ax=ax[0],explode=[0,0.1],shadow=True,autopct='%1.1f%%')\n",
    "ax[0].set_title('Loan_Status',fontsize=30)\n",
    "ax[0].set_ylabel('Count')\n",
    "sns.set(font=\"Verdana\")\n",
    "sns.set_style(\"ticks\")\n",
    "sns.countplot('Loan_Status',hue='Married',linewidth=2.5,edgecolor=\".2\",data=data,ax=ax[1])\n",
    "plt.ioff()"
   ]
  },
  {
   "cell_type": "code",
   "execution_count": 167,
   "id": "74cc1845",
   "metadata": {},
   "outputs": [
    {
     "data": {
      "text/plain": [
       "<matplotlib.pyplot._IoffContext at 0x2338e19f820>"
      ]
     },
     "execution_count": 167,
     "metadata": {},
     "output_type": "execute_result"
    },
    {
     "data": {
      "image/png": "[encoded data removed]",
      "text/plain": [
       "<Figure size 576x432 with 2 Axes>"
      ]
     },
     "metadata": {},
     "output_type": "display_data"
    }
   ],
   "source": [
    "# Variable - 'Property_Area' Vs 'Loan_Status'\n",
    "f,ax=plt.subplots(1,2,figsize=(8,6))\n",
    "data['Property_Area'].value_counts().plot.pie(ax=ax[0],explode=[0,0,0.1],shadow=True,autopct='%1.1f%%')\n",
    "ax[0].set_title('Property_Area',fontsize=30)\n",
    "ax[0].set_ylabel('Count')\n",
    "sns.set(font=\"Verdana\")\n",
    "sns.set_style(\"ticks\")\n",
    "sns.countplot('Property_Area',hue='Loan_Status',linewidth=2.5,edgecolor=\".2\",data=data,ax=ax[1])\n",
    "plt.ioff()"
   ]
  },
  {
   "cell_type": "code",
   "execution_count": 168,
   "id": "e1f73b10",
   "metadata": {},
   "outputs": [
    {
     "data": {
      "text/plain": [
       "<seaborn.axisgrid.FacetGrid at 0x2338e4805e0>"
      ]
     },
     "execution_count": 168,
     "metadata": {},
     "output_type": "execute_result"
    },
    {
     "data": {
      "image/png": "[encoded data removed]",
      "text/plain": [
       "<Figure size 360x360 with 1 Axes>"
      ]
     },
     "metadata": {},
     "output_type": "display_data"
    }
   ],
   "source": [
    "# Variable - 'Gender'  Vs 'CoapplicantIncome'\n",
    "sns.catplot(x='Gender',y='CoapplicantIncome',data=data,kind='box')\n",
    "\n",
    "# Mean Co-applicant Income of male is slightly higher than Females."
   ]
  },
  {
   "cell_type": "code",
   "execution_count": 169,
   "id": "623bdead",
   "metadata": {},
   "outputs": [
    {
     "data": {
      "text/plain": [
       "<seaborn.axisgrid.FacetGrid at 0x2338e13bdc0>"
      ]
     },
     "execution_count": 169,
     "metadata": {},
     "output_type": "execute_result"
    },
    {
     "data": {
      "image/png": "[encoded data removed]",
      "text/plain": [
       "<Figure size 360x360 with 1 Axes>"
      ]
     },
     "metadata": {},
     "output_type": "display_data"
    }
   ],
   "source": [
    "# Variable - 'Credit_History' Vs 'Loan_Status'\n",
    "sns.catplot(x='Credit_History',y='Loan_Status',kind='bar',data=data)\n",
    "\n",
    "# If credit history is 1 then high chances of getting loan approved than for credit history = 0"
   ]
  },
  {
   "cell_type": "code",
   "execution_count": 170,
   "id": "c0b78113",
   "metadata": {},
   "outputs": [
    {
     "data": {
      "text/plain": [
       "<seaborn.axisgrid.FacetGrid at 0x2338e264880>"
      ]
     },
     "execution_count": 170,
     "metadata": {},
     "output_type": "execute_result"
    },
    {
     "data": {
      "image/png": "[encoded data removed]",
      "text/plain": [
       "<Figure size 360x360 with 1 Axes>"
      ]
     },
     "metadata": {},
     "output_type": "display_data"
    }
   ],
   "source": [
    "# Variable - 'Gender' Vs 'LoanAmount'\n",
    "sns.catplot(x='Gender',y='LoanAmount',data=data,kind='box')\n",
    "\n",
    "# Mean value of Loan Amount applied by male is slightly higher than Females."
   ]
  },
  {
   "cell_type": "code",
   "execution_count": 171,
   "id": "0c529da6",
   "metadata": {},
   "outputs": [
    {
     "data": {
      "text/plain": [
       "<seaborn.axisgrid.FacetGrid at 0x2338e2f5640>"
      ]
     },
     "execution_count": 171,
     "metadata": {},
     "output_type": "execute_result"
    },
    {
     "data": {
      "image/png": "[encoded data removed]",
      "text/plain": [
       "<Figure size 796.05x360 with 2 Axes>"
      ]
     },
     "metadata": {},
     "output_type": "display_data"
    }
   ],
   "source": [
    "# Variable - 'Gender' Vs 'LoanAmount', hue='Loan_Status', col='Married'\n",
    "sns.catplot(x='Gender',y='LoanAmount',data=data,kind='box',hue='Loan_Status', col='Married')\n",
    "\n",
    "# If you are married then loan amount requested is slightly higher than non-married"
   ]
  },
  {
   "cell_type": "code",
   "execution_count": 172,
   "id": "93ed4be5",
   "metadata": {},
   "outputs": [
    {
     "data": {
      "text/plain": [
       "<AxesSubplot:xlabel='Loan_Amount_Term', ylabel='count'>"
      ]
     },
     "execution_count": 172,
     "metadata": {},
     "output_type": "execute_result"
    },
    {
     "data": {
      "image/png": "[encoded data removed]",
      "text/plain": [
       "<Figure size 432x288 with 1 Axes>"
      ]
     },
     "metadata": {},
     "output_type": "display_data"
    }
   ],
   "source": [
    "# Variable - 'Loan_Amount_Term' Vs 'Loan_Status'\n",
    "sns.countplot('Loan_Amount_Term',hue='Loan_Status',linewidth=2.5,edgecolor=\".2\",data=data)\n",
    "\n",
    "# Maximum customers requested a tenure of 360 months"
   ]
  },
  {
   "cell_type": "markdown",
   "id": "42cfe158",
   "metadata": {},
   "source": [
    "### Step 4: Impute Missing values"
   ]
  },
  {
   "cell_type": "code",
   "execution_count": 173,
   "id": "ffe8bb91",
   "metadata": {},
   "outputs": [
    {
     "data": {
      "text/plain": [
       "Loan_ID               0\n",
       "Gender               13\n",
       "Married               3\n",
       "Dependents           15\n",
       "Education             0\n",
       "Self_Employed        32\n",
       "ApplicantIncome       0\n",
       "CoapplicantIncome     0\n",
       "LoanAmount           22\n",
       "Loan_Amount_Term     14\n",
       "Credit_History       50\n",
       "Property_Area         0\n",
       "Loan_Status           0\n",
       "Source                0\n",
       "dtype: int64"
      ]
     },
     "execution_count": 173,
     "metadata": {},
     "output_type": "execute_result"
    }
   ],
   "source": [
    "train.isnull().sum()"
   ]
  },
  {
   "cell_type": "code",
   "execution_count": 174,
   "id": "931d1950",
   "metadata": {},
   "outputs": [
    {
     "data": {
      "text/plain": [
       "Loan_ID               0\n",
       "Gender               11\n",
       "Married               0\n",
       "Dependents           10\n",
       "Education             0\n",
       "Self_Employed        23\n",
       "ApplicantIncome       0\n",
       "CoapplicantIncome     0\n",
       "LoanAmount            5\n",
       "Loan_Amount_Term      6\n",
       "Credit_History       29\n",
       "Property_Area         0\n",
       "Source                0\n",
       "Loan_Status           0\n",
       "dtype: int64"
      ]
     },
     "execution_count": 174,
     "metadata": {},
     "output_type": "execute_result"
    }
   ],
   "source": [
    "test.isnull().sum()"
   ]
  },
  {
   "cell_type": "code",
   "execution_count": 175,
   "id": "49ad2dba",
   "metadata": {},
   "outputs": [],
   "source": [
    "# Column - Married. Fill Null values with mode of Married column\n",
    "\n",
    "train['Married'].value_counts().index[0]\n",
    "train['Married'].fillna(train['Married'].value_counts().index[0], inplace=True)\n",
    "test['Married'].fillna(test['Married'].value_counts().index[0], inplace=True)"
   ]
  },
  {
   "cell_type": "code",
   "execution_count": 176,
   "id": "263c44f4",
   "metadata": {},
   "outputs": [],
   "source": [
    "# Column - Dependents\n",
    "\n",
    "# If loan status is 1 then, dependent = 2 else dependent=1\n",
    "train.loc[(train.Dependents.isnull())&(train.Loan_Status==1),'Dependents'] = '2'\n",
    "train.loc[(train.Dependents.isnull()),'Dependents'] = '1'\n",
    "\n",
    "# If Credit_History is 1 then, dependent = 2 else dependent=1 for test\n",
    "test.loc[(test.Dependents.isnull())&(test.Credit_History==1),'Dependents'] = '2'\n",
    "test.loc[(test.Dependents.isnull()),'Dependents'] = '1'"
   ]
  },
  {
   "cell_type": "code",
   "execution_count": 177,
   "id": "9ba5de59",
   "metadata": {},
   "outputs": [],
   "source": [
    "# Column - Credit_History\n",
    "\n",
    "# If loan status is 1 then, Credit_History = 1 else Credit_History=0\n",
    "train.loc[(train.Credit_History.isnull())&(train.Loan_Status==1),'Credit_History'] = 1\n",
    "train.loc[(train.Credit_History.isnull()),'Credit_History'] = 0\n",
    "\n",
    "# Fill Null values with mode of Credit_History column for test\n",
    "test['Credit_History'].fillna(test['Credit_History'].value_counts().index[0], inplace=True)\n",
    "#In test data, for the user with income = 2733, it was decided to impute credit history as 0 based upon the Income to loan ratio \n",
    "test.loc[(test.ApplicantIncome == 2733),'Credit_History']  = 0"
   ]
  },
  {
   "cell_type": "code",
   "execution_count": 178,
   "id": "a18acd7f",
   "metadata": {},
   "outputs": [],
   "source": [
    "# Column - Gender\n",
    "\n",
    "# Fill Null values with mode of Gender column\n",
    "train['Gender'].fillna(train['Gender'].value_counts().index[0], inplace=True)\n",
    "\n",
    "test['Gender'].fillna(test['Gender'].value_counts().index[0], inplace=True)"
   ]
  },
  {
   "cell_type": "code",
   "execution_count": 179,
   "id": "bb08e04d",
   "metadata": {},
   "outputs": [],
   "source": [
    "# Column - Self_Employed\n",
    "\n",
    "# If Credit_History is 1 then, impute Self_Employed = No else Yes\n",
    "train.loc[(train.Self_Employed.isnull())&(train.Credit_History==1),'Self_Employed'] ='No'\n",
    "train.loc[(train.Self_Employed.isnull()),'Self_Employed'] = 'Yes'\n",
    "\n",
    "# If Credit_History is 1 then, impute Self_Employed = No else Yes for test\n",
    "test.loc[(test.Self_Employed.isnull())&(test.Credit_History==1),'Self_Employed'] ='No'\n",
    "test.loc[(test.Self_Employed.isnull()),'Self_Employed'] = 'Yes'"
   ]
  },
  {
   "cell_type": "code",
   "execution_count": 180,
   "id": "fbeec75b",
   "metadata": {},
   "outputs": [],
   "source": [
    "# Column - Loan_Amount_Term. Loan_Amount_Term depends upon gender, married, education, self employed and dependent columns. \n",
    "# Hence we will group them by above columns and imput median values. \n",
    "# In case if the median is null then we will impute median of the entire Loan_Amount_Term column.\n",
    "\n",
    "#get the index of the null columns for Loan_Amount_Term - train\n",
    "index_NaN_Loan_Amount_Term = list(train[\"Loan_Amount_Term\"][train[\"Loan_Amount_Term\"].isnull()].index)\n",
    "\n",
    "for i in index_NaN_Loan_Amount_Term :\n",
    "    Loan_Amount_Term_med = train[\"Loan_Amount_Term\"].median() # find median of entire Loan_Amount_Term column\n",
    "    Loan_Amount_Term_pred = train[\"Loan_Amount_Term\"][((train['Gender'] == train.iloc[i][\"Gender\"]) & (train['Married'] == train.iloc[i][\"Married\"]) & (train['Education'] == train.iloc[i][\"Education\"]) & (train['Self_Employed'] == train.iloc[i][\"Self_Employed\"]) & (train['Dependents'] == train.iloc[i][\"Dependents\"]))].median()\n",
    "    if not np.isnan(Loan_Amount_Term_pred) :\n",
    "        train['Loan_Amount_Term'].iloc[i] = Loan_Amount_Term_pred\n",
    "    else :\n",
    "        train['Loan_Amount_Term'].iloc[i] = Loan_Amount_Term_med"
   ]
  },
  {
   "cell_type": "code",
   "execution_count": 181,
   "id": "aa03ba4e",
   "metadata": {},
   "outputs": [],
   "source": [
    "#Impute Loan term  amount for test\n",
    "index_NaN_Loan_Amount_Term_test = list(test[\"Loan_Amount_Term\"][test[\"Loan_Amount_Term\"].isnull()].index)\n",
    "\n",
    "for i in index_NaN_Loan_Amount_Term_test :\n",
    "    Loan_Amount_Term_med = test[\"Loan_Amount_Term\"].median() \n",
    "    Loan_Amount_Term_pred = test[\"Loan_Amount_Term\"][(( test['Gender'] == test.iloc[i][\"Gender\"]) & (test['Married'] == test.iloc[i][\"Married\"]) & (test['Education'] == test.iloc[i][\"Education\"]) & (test['Self_Employed'] == test.iloc[i][\"Self_Employed\"]) & (test['Dependents'] == test.iloc[i][\"Dependents\"]))].median()\n",
    "    if not np.isnan(Loan_Amount_Term_pred) :\n",
    "        test['Loan_Amount_Term'].iloc[i] = Loan_Amount_Term_pred\n",
    "    else :\n",
    "        test['Loan_Amount_Term'].iloc[i] = Loan_Amount_Term_med"
   ]
  },
  {
   "cell_type": "code",
   "execution_count": 182,
   "id": "854f80b9",
   "metadata": {},
   "outputs": [],
   "source": [
    "#Impute LoanAmount for train\n",
    "index_NaN_LoanAmount = list(data[\"LoanAmount\"][data[\"LoanAmount\"].isnull()].index)\n",
    "\n",
    "for i in index_NaN_LoanAmount :\n",
    "    LoanAmount_med = data[\"LoanAmount\"].median() # find median of entire LoanAmount column\n",
    "    LoanAmount_pred = data[\"LoanAmount\"][((data['Property_Area'] == data.iloc[i][\"Property_Area\"]) & (data['Gender'] == data.iloc[i][\"Gender\"]) & (data['Married'] == data.iloc[i][\"Married\"]) & (data['Education'] == data.iloc[i][\"Education\"]) & (data['Self_Employed'] == data.iloc[i][\"Self_Employed\"]) & (data['Dependents'] == data.iloc[i][\"Dependents\"]))].median()\n",
    "    if not np.isnan(LoanAmount_pred) :\n",
    "        data['LoanAmount'].iloc[i] = LoanAmount_pred\n",
    "    else :\n",
    "        data['LoanAmount'].iloc[i] = LoanAmount_med"
   ]
  },
  {
   "cell_type": "code",
   "execution_count": 183,
   "id": "a3db7b8b",
   "metadata": {},
   "outputs": [],
   "source": [
    "#Impute LoanAmount for train\n",
    "index_NaN_LoanAmount = list(train[\"LoanAmount\"][train[\"LoanAmount\"].isnull()].index)\n",
    "\n",
    "for i in index_NaN_LoanAmount :\n",
    "    LoanAmount_med = train[\"LoanAmount\"].median() # find median of entire LoanAmount column\n",
    "    LoanAmount_pred = train[\"LoanAmount\"][((train['Property_Area'] == train.iloc[i][\"Property_Area\"]) & (train['Gender'] == train.iloc[i][\"Gender\"]) & (train['Married'] == train.iloc[i][\"Married\"]) & (train['Education'] == train.iloc[i][\"Education\"]) & (train['Self_Employed'] == train.iloc[i][\"Self_Employed\"]) & (train['Dependents'] == train.iloc[i][\"Dependents\"]))].median()\n",
    "    if not np.isnan(LoanAmount_pred) :\n",
    "        train['LoanAmount'].iloc[i] = LoanAmount_pred\n",
    "    else :\n",
    "        train['LoanAmount'].iloc[i] = LoanAmount_med"
   ]
  },
  {
   "cell_type": "code",
   "execution_count": 184,
   "id": "5c2dcc51",
   "metadata": {},
   "outputs": [],
   "source": [
    "#Impute Loan amount for test\n",
    "index_NaN_LoanAmount_test = list(test[\"LoanAmount\"][test[\"LoanAmount\"].isnull()].index)\n",
    "\n",
    "for i in index_NaN_LoanAmount_test :\n",
    "    LoanAmount_med = test[\"LoanAmount\"].median()\n",
    "    LoanAmount_pred = test[\"LoanAmount\"][((test['Property_Area'] == test.iloc[i][\"Property_Area\"]) & (test['Gender'] == test.iloc[i][\"Gender\"]) & (test['Married'] == test.iloc[i][\"Married\"]) & (test['Education'] == test.iloc[i][\"Education\"]) & (test['Self_Employed'] == test.iloc[i][\"Self_Employed\"]) & (test['Dependents'] == test.iloc[i][\"Dependents\"]))].median()\n",
    "    if not np.isnan(LoanAmount_pred) :\n",
    "        test['LoanAmount'].iloc[i] = LoanAmount_pred\n",
    "    else :\n",
    "        test['LoanAmount'].iloc[i] = LoanAmount_med"
   ]
  },
  {
   "cell_type": "code",
   "execution_count": 185,
   "id": "435124db",
   "metadata": {},
   "outputs": [
    {
     "data": {
      "text/plain": [
       "ApplicantIncome      0\n",
       "CoapplicantIncome    0\n",
       "Credit_History       0\n",
       "Dependents           0\n",
       "Education            0\n",
       "Gender               0\n",
       "LoanAmount           0\n",
       "Loan_Amount_Term     0\n",
       "Loan_ID              0\n",
       "Loan_Status          0\n",
       "Married              0\n",
       "Property_Area        0\n",
       "Self_Employed        0\n",
       "Source               0\n",
       "dtype: int64"
      ]
     },
     "execution_count": 185,
     "metadata": {},
     "output_type": "execute_result"
    }
   ],
   "source": [
    "train.isnull().sum() + test.isnull().sum()"
   ]
  },
  {
   "cell_type": "markdown",
   "id": "472d8d0f",
   "metadata": {},
   "source": [
    "### Step 5: Feature Engineering"
   ]
  },
  {
   "cell_type": "code",
   "execution_count": 186,
   "id": "90c96ad6",
   "metadata": {},
   "outputs": [],
   "source": [
    "data = pd.concat([train, test], sort = False)"
   ]
  },
  {
   "cell_type": "code",
   "execution_count": 187,
   "id": "3c4c8438",
   "metadata": {},
   "outputs": [
    {
     "data": {
      "text/plain": [
       "(981, 14)"
      ]
     },
     "execution_count": 187,
     "metadata": {},
     "output_type": "execute_result"
    }
   ],
   "source": [
    "data.shape"
   ]
  },
  {
   "cell_type": "code",
   "execution_count": 188,
   "id": "6f85dadd",
   "metadata": {},
   "outputs": [
    {
     "data": {
      "text/html": [
       "<div>\n",
       "<style scoped>\n",
       "    .dataframe tbody tr th:only-of-type {\n",
       "        vertical-align: middle;\n",
       "    }\n",
       "\n",
       "    .dataframe tbody tr th {\n",
       "        vertical-align: top;\n",
       "    }\n",
       "\n",
       "    .dataframe thead th {\n",
       "        text-align: right;\n",
       "    }\n",
       "</style>\n",
       "<table border=\"1\" class=\"dataframe\">\n",
       "  <thead>\n",
       "    <tr style=\"text-align: right;\">\n",
       "      <th></th>\n",
       "      <th>Loan_ID</th>\n",
       "      <th>Gender</th>\n",
       "      <th>Married</th>\n",
       "      <th>Dependents</th>\n",
       "      <th>Education</th>\n",
       "      <th>Self_Employed</th>\n",
       "      <th>ApplicantIncome</th>\n",
       "      <th>CoapplicantIncome</th>\n",
       "      <th>LoanAmount</th>\n",
       "      <th>Loan_Amount_Term</th>\n",
       "      <th>Credit_History</th>\n",
       "      <th>Property_Area</th>\n",
       "      <th>Loan_Status</th>\n",
       "      <th>Source</th>\n",
       "    </tr>\n",
       "  </thead>\n",
       "  <tbody>\n",
       "    <tr>\n",
       "      <th>0</th>\n",
       "      <td>LP001002</td>\n",
       "      <td>Male</td>\n",
       "      <td>No</td>\n",
       "      <td>0</td>\n",
       "      <td>Graduate</td>\n",
       "      <td>No</td>\n",
       "      <td>5849</td>\n",
       "      <td>0.0</td>\n",
       "      <td>105.0</td>\n",
       "      <td>360.0</td>\n",
       "      <td>1.0</td>\n",
       "      <td>Urban</td>\n",
       "      <td>Y</td>\n",
       "      <td>train</td>\n",
       "    </tr>\n",
       "    <tr>\n",
       "      <th>1</th>\n",
       "      <td>LP001003</td>\n",
       "      <td>Male</td>\n",
       "      <td>Yes</td>\n",
       "      <td>1</td>\n",
       "      <td>Graduate</td>\n",
       "      <td>No</td>\n",
       "      <td>4583</td>\n",
       "      <td>1508.0</td>\n",
       "      <td>128.0</td>\n",
       "      <td>360.0</td>\n",
       "      <td>1.0</td>\n",
       "      <td>Rural</td>\n",
       "      <td>N</td>\n",
       "      <td>train</td>\n",
       "    </tr>\n",
       "    <tr>\n",
       "      <th>2</th>\n",
       "      <td>LP001005</td>\n",
       "      <td>Male</td>\n",
       "      <td>Yes</td>\n",
       "      <td>0</td>\n",
       "      <td>Graduate</td>\n",
       "      <td>Yes</td>\n",
       "      <td>3000</td>\n",
       "      <td>0.0</td>\n",
       "      <td>66.0</td>\n",
       "      <td>360.0</td>\n",
       "      <td>1.0</td>\n",
       "      <td>Urban</td>\n",
       "      <td>Y</td>\n",
       "      <td>train</td>\n",
       "    </tr>\n",
       "    <tr>\n",
       "      <th>3</th>\n",
       "      <td>LP001006</td>\n",
       "      <td>Male</td>\n",
       "      <td>Yes</td>\n",
       "      <td>0</td>\n",
       "      <td>Not Graduate</td>\n",
       "      <td>No</td>\n",
       "      <td>2583</td>\n",
       "      <td>2358.0</td>\n",
       "      <td>120.0</td>\n",
       "      <td>360.0</td>\n",
       "      <td>1.0</td>\n",
       "      <td>Urban</td>\n",
       "      <td>Y</td>\n",
       "      <td>train</td>\n",
       "    </tr>\n",
       "    <tr>\n",
       "      <th>4</th>\n",
       "      <td>LP001008</td>\n",
       "      <td>Male</td>\n",
       "      <td>No</td>\n",
       "      <td>0</td>\n",
       "      <td>Graduate</td>\n",
       "      <td>No</td>\n",
       "      <td>6000</td>\n",
       "      <td>0.0</td>\n",
       "      <td>141.0</td>\n",
       "      <td>360.0</td>\n",
       "      <td>1.0</td>\n",
       "      <td>Urban</td>\n",
       "      <td>Y</td>\n",
       "      <td>train</td>\n",
       "    </tr>\n",
       "  </tbody>\n",
       "</table>\n",
       "</div>"
      ],
      "text/plain": [
       "    Loan_ID Gender Married Dependents     Education Self_Employed  \\\n",
       "0  LP001002   Male      No          0      Graduate            No   \n",
       "1  LP001003   Male     Yes          1      Graduate            No   \n",
       "2  LP001005   Male     Yes          0      Graduate           Yes   \n",
       "3  LP001006   Male     Yes          0  Not Graduate            No   \n",
       "4  LP001008   Male      No          0      Graduate            No   \n",
       "\n",
       "   ApplicantIncome  CoapplicantIncome  LoanAmount  Loan_Amount_Term  \\\n",
       "0             5849                0.0       105.0             360.0   \n",
       "1             4583             1508.0       128.0             360.0   \n",
       "2             3000                0.0        66.0             360.0   \n",
       "3             2583             2358.0       120.0             360.0   \n",
       "4             6000                0.0       141.0             360.0   \n",
       "\n",
       "   Credit_History Property_Area Loan_Status Source  \n",
       "0             1.0         Urban           Y  train  \n",
       "1             1.0         Rural           N  train  \n",
       "2             1.0         Urban           Y  train  \n",
       "3             1.0         Urban           Y  train  \n",
       "4             1.0         Urban           Y  train  "
      ]
     },
     "execution_count": 188,
     "metadata": {},
     "output_type": "execute_result"
    }
   ],
   "source": [
    "data.head()"
   ]
  },
  {
   "cell_type": "code",
   "execution_count": 189,
   "id": "c4dfe8a5",
   "metadata": {},
   "outputs": [],
   "source": [
    "# Label encode categorical variables\n",
    "data[\"Dependents\"] = data[\"Dependents\"].map({\"0\": 0, \"1\": 1,\"2\": 2, \"3+\": 3})\n",
    "\n",
    "data[\"Property_Area\"] = data[\"Property_Area\"].map({\"Rural\":0, \"Semiurban\":1, \"Urban\": 2,})"
   ]
  },
  {
   "cell_type": "code",
   "execution_count": 190,
   "id": "f4f5dbba",
   "metadata": {},
   "outputs": [],
   "source": [
    "# the LoanAmount applied by all the customers is in thousands, so lets multiply LoanAmount column with 1000\n",
    "\n",
    "data['LoanAmount'] = data['LoanAmount'] * 1000"
   ]
  },
  {
   "cell_type": "code",
   "execution_count": 191,
   "id": "81f09136",
   "metadata": {},
   "outputs": [],
   "source": [
    "# Drop unwanted columns\n",
    "\n",
    "data.drop(['Loan_ID'],axis=1,inplace=True) # Delete Loan_ID from the dataset "
   ]
  },
  {
   "cell_type": "code",
   "execution_count": 192,
   "id": "2af929af",
   "metadata": {},
   "outputs": [],
   "source": [
    "# add new features to our datasets\n",
    "\n",
    "#Add new features - Total income\n",
    "data['Total_Income'] = data['ApplicantIncome'] + data['CoapplicantIncome']\n",
    "\n",
    "# Dropping unwanted columns - 'ApplicantIncome','CoapplicantIncome'\n",
    "data.drop(['ApplicantIncome','CoapplicantIncome'], axis=1, inplace=True)"
   ]
  },
  {
   "cell_type": "code",
   "execution_count": 193,
   "id": "429f44b8",
   "metadata": {},
   "outputs": [],
   "source": [
    "# Categorical variables wise sum of numerical columns\n",
    "data['Credit_History_Income_Sum']=data.groupby(['Credit_History'])['Total_Income'].transform('sum')\n",
    "data['Dependents_LoanAmount_Sum']=data.groupby(['Dependents'])['LoanAmount'].transform('sum')"
   ]
  },
  {
   "cell_type": "code",
   "execution_count": 194,
   "id": "f5f652ab",
   "metadata": {},
   "outputs": [],
   "source": [
    "# Create a new column - EMI\n",
    "\n",
    "#Lets assume that interest rate=10.0 # hence r = ((10/12)/100) = 0.00833\n",
    "\n",
    "r = 0.00833\n",
    "data['EMI']=data.apply(lambda x: (x['LoanAmount']*r*((1+r)**x['Loan_Amount_Term']))/((1+r)**((x['Loan_Amount_Term'])-1)),axis=1)"
   ]
  },
  {
   "cell_type": "code",
   "execution_count": 195,
   "id": "62e59e8d",
   "metadata": {},
   "outputs": [],
   "source": [
    "# Categorical variables wise mean of EMI\n",
    "data['Dependents_EMI_mean']=data.groupby(['Dependents'])['EMI'].transform('mean')"
   ]
  },
  {
   "cell_type": "code",
   "execution_count": 196,
   "id": "88fc6d97",
   "metadata": {},
   "outputs": [],
   "source": [
    "# LoanAmount_per_Total_Income\n",
    "data['LoanAmount_per_Total_Income']=data['LoanAmount']/data['Total_Income']\n",
    "\n",
    "# Loan_Amount_Term_per_Total_Income\n",
    "data['Loan_Amount_Term_per_Total_Income']=data['Loan_Amount_Term']/data['Total_Income']"
   ]
  },
  {
   "cell_type": "code",
   "execution_count": 197,
   "id": "d49771ec",
   "metadata": {},
   "outputs": [],
   "source": [
    "# EMI_per_Loan_Amount_Term\n",
    "data['EMI_per_Loan_Amount_Term']=data['EMI']/data['Loan_Amount_Term']\n",
    "\n",
    "# EMI_per_LoanAmount\n",
    "data['EMI_per_LoanAmount']=data['EMI']/data['LoanAmount']"
   ]
  },
  {
   "cell_type": "code",
   "execution_count": 198,
   "id": "5fe0e7b8",
   "metadata": {},
   "outputs": [],
   "source": [
    "# Categorical variables wise mean of LoanAmount_per_Total_Income\n",
    "data['Property_Area_LoanAmount_per_Total_Income_mean']=data.groupby(['Property_Area'])['LoanAmount_per_Total_Income'].transform('mean')"
   ]
  },
  {
   "cell_type": "code",
   "execution_count": 199,
   "id": "3fb44ac9",
   "metadata": {},
   "outputs": [],
   "source": [
    "################################# Bin formation ###############################################\n",
    "from sklearn.preprocessing import KBinsDiscretizer\n",
    "\n",
    "Loan_Amount_Term_discretizer = KBinsDiscretizer(n_bins=5, encode='ordinal', strategy='quantile')\n",
    "data['Loan_Amount_Term_Bins'] = Loan_Amount_Term_discretizer.fit_transform(data['Loan_Amount_Term'].values.reshape(-1,1)).astype(float)\n",
    "\n",
    "Total_Income_discretizer = KBinsDiscretizer(n_bins=5, encode='ordinal', strategy='quantile')\n",
    "data['Total_Income_Bins'] = Total_Income_discretizer.fit_transform(data['Total_Income'].values.reshape(-1,1)).astype(float)\n",
    "\n",
    "LoanAmount_per_Total_Income_discretizer = KBinsDiscretizer(n_bins=5, encode='ordinal', strategy='quantile')\n",
    "data['LoanAmount_per_Total_Income_Bins'] = LoanAmount_per_Total_Income_discretizer.fit_transform(data['LoanAmount_per_Total_Income'].values.reshape(-1,1)).astype(float)"
   ]
  },
  {
   "cell_type": "code",
   "execution_count": 200,
   "id": "31723708",
   "metadata": {},
   "outputs": [
    {
     "name": "stdout",
     "output_type": "stream",
     "text": [
      "combine_set dataset shape: (981, 24)\n"
     ]
    }
   ],
   "source": [
    "print(\"combine_set dataset shape: {0}\".format(data.shape))"
   ]
  },
  {
   "cell_type": "code",
   "execution_count": 201,
   "id": "5b7f4427",
   "metadata": {},
   "outputs": [],
   "source": [
    "#Drop unwanted columns\n",
    "data=data.drop(['EMI'],axis=1)\n",
    "data=data.drop(['Total_Income'],axis=1)\n",
    "data=data.drop(['LoanAmount_per_Total_Income'],axis=1)"
   ]
  },
  {
   "cell_type": "code",
   "execution_count": 202,
   "id": "1f708e9f",
   "metadata": {},
   "outputs": [
    {
     "name": "stdout",
     "output_type": "stream",
     "text": [
      "combine_set dataset shape: (981, 21)\n"
     ]
    }
   ],
   "source": [
    "print(\"combine_set dataset shape: {0}\".format(data.shape))"
   ]
  },
  {
   "cell_type": "code",
   "execution_count": 206,
   "id": "ef7ab44b",
   "metadata": {},
   "outputs": [
    {
     "data": {
      "text/html": [
       "<div>\n",
       "<style scoped>\n",
       "    .dataframe tbody tr th:only-of-type {\n",
       "        vertical-align: middle;\n",
       "    }\n",
       "\n",
       "    .dataframe tbody tr th {\n",
       "        vertical-align: top;\n",
       "    }\n",
       "\n",
       "    .dataframe thead th {\n",
       "        text-align: right;\n",
       "    }\n",
       "</style>\n",
       "<table border=\"1\" class=\"dataframe\">\n",
       "  <thead>\n",
       "    <tr style=\"text-align: right;\">\n",
       "      <th></th>\n",
       "      <th>Gender</th>\n",
       "      <th>Married</th>\n",
       "      <th>Dependents</th>\n",
       "      <th>Education</th>\n",
       "      <th>Self_Employed</th>\n",
       "      <th>LoanAmount</th>\n",
       "      <th>Loan_Amount_Term</th>\n",
       "      <th>Credit_History</th>\n",
       "      <th>Property_Area</th>\n",
       "      <th>Loan_Status</th>\n",
       "      <th>...</th>\n",
       "      <th>Credit_History_Income_Sum</th>\n",
       "      <th>Dependents_LoanAmount_Sum</th>\n",
       "      <th>Dependents_EMI_mean</th>\n",
       "      <th>Loan_Amount_Term_per_Total_Income</th>\n",
       "      <th>EMI_per_Loan_Amount_Term</th>\n",
       "      <th>EMI_per_LoanAmount</th>\n",
       "      <th>Property_Area_LoanAmount_per_Total_Income_mean</th>\n",
       "      <th>Loan_Amount_Term_Bins</th>\n",
       "      <th>Total_Income_Bins</th>\n",
       "      <th>LoanAmount_per_Total_Income_Bins</th>\n",
       "    </tr>\n",
       "  </thead>\n",
       "  <tbody>\n",
       "    <tr>\n",
       "      <th>0</th>\n",
       "      <td>Male</td>\n",
       "      <td>No</td>\n",
       "      <td>0</td>\n",
       "      <td>Graduate</td>\n",
       "      <td>No</td>\n",
       "      <td>105000.0</td>\n",
       "      <td>360.0</td>\n",
       "      <td>1.0</td>\n",
       "      <td>2</td>\n",
       "      <td>1</td>\n",
       "      <td>...</td>\n",
       "      <td>5.307796e+06</td>\n",
       "      <td>72777000.0</td>\n",
       "      <td>1121.618947</td>\n",
       "      <td>0.061549</td>\n",
       "      <td>2.449822</td>\n",
       "      <td>0.008399</td>\n",
       "      <td>23.360438</td>\n",
       "      <td>1.0</td>\n",
       "      <td>2.0</td>\n",
       "      <td>1.0</td>\n",
       "    </tr>\n",
       "    <tr>\n",
       "      <th>1</th>\n",
       "      <td>Male</td>\n",
       "      <td>Yes</td>\n",
       "      <td>1</td>\n",
       "      <td>Graduate</td>\n",
       "      <td>No</td>\n",
       "      <td>128000.0</td>\n",
       "      <td>360.0</td>\n",
       "      <td>1.0</td>\n",
       "      <td>0</td>\n",
       "      <td>0</td>\n",
       "      <td>...</td>\n",
       "      <td>5.307796e+06</td>\n",
       "      <td>26023000.0</td>\n",
       "      <td>1234.899985</td>\n",
       "      <td>0.059104</td>\n",
       "      <td>2.986449</td>\n",
       "      <td>0.008399</td>\n",
       "      <td>23.988448</td>\n",
       "      <td>1.0</td>\n",
       "      <td>3.0</td>\n",
       "      <td>1.0</td>\n",
       "    </tr>\n",
       "    <tr>\n",
       "      <th>2</th>\n",
       "      <td>Male</td>\n",
       "      <td>Yes</td>\n",
       "      <td>0</td>\n",
       "      <td>Graduate</td>\n",
       "      <td>Yes</td>\n",
       "      <td>66000.0</td>\n",
       "      <td>360.0</td>\n",
       "      <td>1.0</td>\n",
       "      <td>2</td>\n",
       "      <td>1</td>\n",
       "      <td>...</td>\n",
       "      <td>5.307796e+06</td>\n",
       "      <td>72777000.0</td>\n",
       "      <td>1121.618947</td>\n",
       "      <td>0.120000</td>\n",
       "      <td>1.539888</td>\n",
       "      <td>0.008399</td>\n",
       "      <td>23.360438</td>\n",
       "      <td>1.0</td>\n",
       "      <td>0.0</td>\n",
       "      <td>1.0</td>\n",
       "    </tr>\n",
       "    <tr>\n",
       "      <th>3</th>\n",
       "      <td>Male</td>\n",
       "      <td>Yes</td>\n",
       "      <td>0</td>\n",
       "      <td>Not Graduate</td>\n",
       "      <td>No</td>\n",
       "      <td>120000.0</td>\n",
       "      <td>360.0</td>\n",
       "      <td>1.0</td>\n",
       "      <td>2</td>\n",
       "      <td>1</td>\n",
       "      <td>...</td>\n",
       "      <td>5.307796e+06</td>\n",
       "      <td>72777000.0</td>\n",
       "      <td>1121.618947</td>\n",
       "      <td>0.072860</td>\n",
       "      <td>2.799796</td>\n",
       "      <td>0.008399</td>\n",
       "      <td>23.360438</td>\n",
       "      <td>1.0</td>\n",
       "      <td>2.0</td>\n",
       "      <td>2.0</td>\n",
       "    </tr>\n",
       "    <tr>\n",
       "      <th>4</th>\n",
       "      <td>Male</td>\n",
       "      <td>No</td>\n",
       "      <td>0</td>\n",
       "      <td>Graduate</td>\n",
       "      <td>No</td>\n",
       "      <td>141000.0</td>\n",
       "      <td>360.0</td>\n",
       "      <td>1.0</td>\n",
       "      <td>2</td>\n",
       "      <td>1</td>\n",
       "      <td>...</td>\n",
       "      <td>5.307796e+06</td>\n",
       "      <td>72777000.0</td>\n",
       "      <td>1121.618947</td>\n",
       "      <td>0.060000</td>\n",
       "      <td>3.289761</td>\n",
       "      <td>0.008399</td>\n",
       "      <td>23.360438</td>\n",
       "      <td>1.0</td>\n",
       "      <td>3.0</td>\n",
       "      <td>2.0</td>\n",
       "    </tr>\n",
       "  </tbody>\n",
       "</table>\n",
       "<p>5 rows × 21 columns</p>\n",
       "</div>"
      ],
      "text/plain": [
       "  Gender Married  Dependents     Education Self_Employed  LoanAmount  \\\n",
       "0   Male      No           0      Graduate            No    105000.0   \n",
       "1   Male     Yes           1      Graduate            No    128000.0   \n",
       "2   Male     Yes           0      Graduate           Yes     66000.0   \n",
       "3   Male     Yes           0  Not Graduate            No    120000.0   \n",
       "4   Male      No           0      Graduate            No    141000.0   \n",
       "\n",
       "   Loan_Amount_Term  Credit_History  Property_Area  Loan_Status  ...  \\\n",
       "0             360.0             1.0              2            1  ...   \n",
       "1             360.0             1.0              0            0  ...   \n",
       "2             360.0             1.0              2            1  ...   \n",
       "3             360.0             1.0              2            1  ...   \n",
       "4             360.0             1.0              2            1  ...   \n",
       "\n",
       "  Credit_History_Income_Sum  Dependents_LoanAmount_Sum  Dependents_EMI_mean  \\\n",
       "0              5.307796e+06                 72777000.0          1121.618947   \n",
       "1              5.307796e+06                 26023000.0          1234.899985   \n",
       "2              5.307796e+06                 72777000.0          1121.618947   \n",
       "3              5.307796e+06                 72777000.0          1121.618947   \n",
       "4              5.307796e+06                 72777000.0          1121.618947   \n",
       "\n",
       "   Loan_Amount_Term_per_Total_Income  EMI_per_Loan_Amount_Term  \\\n",
       "0                           0.061549                  2.449822   \n",
       "1                           0.059104                  2.986449   \n",
       "2                           0.120000                  1.539888   \n",
       "3                           0.072860                  2.799796   \n",
       "4                           0.060000                  3.289761   \n",
       "\n",
       "   EMI_per_LoanAmount  Property_Area_LoanAmount_per_Total_Income_mean  \\\n",
       "0            0.008399                                       23.360438   \n",
       "1            0.008399                                       23.988448   \n",
       "2            0.008399                                       23.360438   \n",
       "3            0.008399                                       23.360438   \n",
       "4            0.008399                                       23.360438   \n",
       "\n",
       "   Loan_Amount_Term_Bins  Total_Income_Bins  LoanAmount_per_Total_Income_Bins  \n",
       "0                    1.0                2.0                               1.0  \n",
       "1                    1.0                3.0                               1.0  \n",
       "2                    1.0                0.0                               1.0  \n",
       "3                    1.0                2.0                               2.0  \n",
       "4                    1.0                3.0                               2.0  \n",
       "\n",
       "[5 rows x 21 columns]"
      ]
     },
     "execution_count": 206,
     "metadata": {},
     "output_type": "execute_result"
    }
   ],
   "source": [
    "data.head()"
   ]
  },
  {
   "cell_type": "code",
   "execution_count": 204,
   "id": "b71b416d",
   "metadata": {},
   "outputs": [],
   "source": [
    "# Label encode categorical variables\n",
    "data[\"Loan_Status\"] = data[\"Loan_Status\"].map({\"Y\": 1, \"N\": 0})"
   ]
  },
  {
   "cell_type": "code",
   "execution_count": 205,
   "id": "28fa4ee5",
   "metadata": {},
   "outputs": [],
   "source": [
    "# Divide into test and train:\n",
    "train_df = data.loc[data['Source']==\"train\"]\n",
    "test_df = data.loc[data['Source']==\"test\"]"
   ]
  },
  {
   "cell_type": "code",
   "execution_count": 207,
   "id": "42b9da02",
   "metadata": {},
   "outputs": [
    {
     "name": "stdout",
     "output_type": "stream",
     "text": [
      "Train dataset shape: (614, 21), \n",
      "Test dataset shape: (367, 21)\n"
     ]
    }
   ],
   "source": [
    "print(\"Train dataset shape: {0}, \\nTest dataset shape: {1}\".format(train_df.shape, test_df.shape))"
   ]
  },
  {
   "cell_type": "code",
   "execution_count": 208,
   "id": "7fcd5c57",
   "metadata": {},
   "outputs": [],
   "source": [
    "# Drop unnecessary columns:\n",
    "test_df.drop(['Loan_Status','Source'], axis=1, inplace=True)\n",
    "train_df.drop(['Source'], axis=1, inplace=True)"
   ]
  },
  {
   "cell_type": "code",
   "execution_count": 209,
   "id": "e9114a8f",
   "metadata": {},
   "outputs": [
    {
     "name": "stdout",
     "output_type": "stream",
     "text": [
      "Train dataset shape: (614, 20), \n",
      "Test dataset shape: (367, 19)\n"
     ]
    }
   ],
   "source": [
    "print(\"Train dataset shape: {0}, \\nTest dataset shape: {1}\".format(train_df.shape, test_df.shape))"
   ]
  },
  {
   "cell_type": "code",
   "execution_count": 210,
   "id": "8d421452",
   "metadata": {},
   "outputs": [],
   "source": [
    "#Label encode categorical variables using get_dummies()\n",
    "train_df = pd.get_dummies(train_df, drop_first = True)\n",
    "test_df = pd.get_dummies(test_df, drop_first = True)"
   ]
  },
  {
   "cell_type": "code",
   "execution_count": 211,
   "id": "078db72c",
   "metadata": {},
   "outputs": [
    {
     "data": {
      "text/html": [
       "<div>\n",
       "<style scoped>\n",
       "    .dataframe tbody tr th:only-of-type {\n",
       "        vertical-align: middle;\n",
       "    }\n",
       "\n",
       "    .dataframe tbody tr th {\n",
       "        vertical-align: top;\n",
       "    }\n",
       "\n",
       "    .dataframe thead th {\n",
       "        text-align: right;\n",
       "    }\n",
       "</style>\n",
       "<table border=\"1\" class=\"dataframe\">\n",
       "  <thead>\n",
       "    <tr style=\"text-align: right;\">\n",
       "      <th></th>\n",
       "      <th>Dependents</th>\n",
       "      <th>LoanAmount</th>\n",
       "      <th>Loan_Amount_Term</th>\n",
       "      <th>Credit_History</th>\n",
       "      <th>Property_Area</th>\n",
       "      <th>Loan_Status</th>\n",
       "      <th>Credit_History_Income_Sum</th>\n",
       "      <th>Dependents_LoanAmount_Sum</th>\n",
       "      <th>Dependents_EMI_mean</th>\n",
       "      <th>Loan_Amount_Term_per_Total_Income</th>\n",
       "      <th>EMI_per_Loan_Amount_Term</th>\n",
       "      <th>EMI_per_LoanAmount</th>\n",
       "      <th>Property_Area_LoanAmount_per_Total_Income_mean</th>\n",
       "      <th>Loan_Amount_Term_Bins</th>\n",
       "      <th>Total_Income_Bins</th>\n",
       "      <th>LoanAmount_per_Total_Income_Bins</th>\n",
       "      <th>Gender_Male</th>\n",
       "      <th>Married_Yes</th>\n",
       "      <th>Education_Not Graduate</th>\n",
       "      <th>Self_Employed_Yes</th>\n",
       "    </tr>\n",
       "  </thead>\n",
       "  <tbody>\n",
       "    <tr>\n",
       "      <th>0</th>\n",
       "      <td>0</td>\n",
       "      <td>105000.0</td>\n",
       "      <td>360.0</td>\n",
       "      <td>1.0</td>\n",
       "      <td>2</td>\n",
       "      <td>1</td>\n",
       "      <td>5.307796e+06</td>\n",
       "      <td>72777000.0</td>\n",
       "      <td>1121.618947</td>\n",
       "      <td>0.061549</td>\n",
       "      <td>2.449822</td>\n",
       "      <td>0.008399</td>\n",
       "      <td>23.360438</td>\n",
       "      <td>1.0</td>\n",
       "      <td>2.0</td>\n",
       "      <td>1.0</td>\n",
       "      <td>1</td>\n",
       "      <td>0</td>\n",
       "      <td>0</td>\n",
       "      <td>0</td>\n",
       "    </tr>\n",
       "    <tr>\n",
       "      <th>1</th>\n",
       "      <td>1</td>\n",
       "      <td>128000.0</td>\n",
       "      <td>360.0</td>\n",
       "      <td>1.0</td>\n",
       "      <td>0</td>\n",
       "      <td>0</td>\n",
       "      <td>5.307796e+06</td>\n",
       "      <td>26023000.0</td>\n",
       "      <td>1234.899985</td>\n",
       "      <td>0.059104</td>\n",
       "      <td>2.986449</td>\n",
       "      <td>0.008399</td>\n",
       "      <td>23.988448</td>\n",
       "      <td>1.0</td>\n",
       "      <td>3.0</td>\n",
       "      <td>1.0</td>\n",
       "      <td>1</td>\n",
       "      <td>1</td>\n",
       "      <td>0</td>\n",
       "      <td>0</td>\n",
       "    </tr>\n",
       "    <tr>\n",
       "      <th>2</th>\n",
       "      <td>0</td>\n",
       "      <td>66000.0</td>\n",
       "      <td>360.0</td>\n",
       "      <td>1.0</td>\n",
       "      <td>2</td>\n",
       "      <td>1</td>\n",
       "      <td>5.307796e+06</td>\n",
       "      <td>72777000.0</td>\n",
       "      <td>1121.618947</td>\n",
       "      <td>0.120000</td>\n",
       "      <td>1.539888</td>\n",
       "      <td>0.008399</td>\n",
       "      <td>23.360438</td>\n",
       "      <td>1.0</td>\n",
       "      <td>0.0</td>\n",
       "      <td>1.0</td>\n",
       "      <td>1</td>\n",
       "      <td>1</td>\n",
       "      <td>0</td>\n",
       "      <td>1</td>\n",
       "    </tr>\n",
       "    <tr>\n",
       "      <th>3</th>\n",
       "      <td>0</td>\n",
       "      <td>120000.0</td>\n",
       "      <td>360.0</td>\n",
       "      <td>1.0</td>\n",
       "      <td>2</td>\n",
       "      <td>1</td>\n",
       "      <td>5.307796e+06</td>\n",
       "      <td>72777000.0</td>\n",
       "      <td>1121.618947</td>\n",
       "      <td>0.072860</td>\n",
       "      <td>2.799796</td>\n",
       "      <td>0.008399</td>\n",
       "      <td>23.360438</td>\n",
       "      <td>1.0</td>\n",
       "      <td>2.0</td>\n",
       "      <td>2.0</td>\n",
       "      <td>1</td>\n",
       "      <td>1</td>\n",
       "      <td>1</td>\n",
       "      <td>0</td>\n",
       "    </tr>\n",
       "    <tr>\n",
       "      <th>4</th>\n",
       "      <td>0</td>\n",
       "      <td>141000.0</td>\n",
       "      <td>360.0</td>\n",
       "      <td>1.0</td>\n",
       "      <td>2</td>\n",
       "      <td>1</td>\n",
       "      <td>5.307796e+06</td>\n",
       "      <td>72777000.0</td>\n",
       "      <td>1121.618947</td>\n",
       "      <td>0.060000</td>\n",
       "      <td>3.289761</td>\n",
       "      <td>0.008399</td>\n",
       "      <td>23.360438</td>\n",
       "      <td>1.0</td>\n",
       "      <td>3.0</td>\n",
       "      <td>2.0</td>\n",
       "      <td>1</td>\n",
       "      <td>0</td>\n",
       "      <td>0</td>\n",
       "      <td>0</td>\n",
       "    </tr>\n",
       "  </tbody>\n",
       "</table>\n",
       "</div>"
      ],
      "text/plain": [
       "   Dependents  LoanAmount  Loan_Amount_Term  Credit_History  Property_Area  \\\n",
       "0           0    105000.0             360.0             1.0              2   \n",
       "1           1    128000.0             360.0             1.0              0   \n",
       "2           0     66000.0             360.0             1.0              2   \n",
       "3           0    120000.0             360.0             1.0              2   \n",
       "4           0    141000.0             360.0             1.0              2   \n",
       "\n",
       "   Loan_Status  Credit_History_Income_Sum  Dependents_LoanAmount_Sum  \\\n",
       "0            1               5.307796e+06                 72777000.0   \n",
       "1            0               5.307796e+06                 26023000.0   \n",
       "2            1               5.307796e+06                 72777000.0   \n",
       "3            1               5.307796e+06                 72777000.0   \n",
       "4            1               5.307796e+06                 72777000.0   \n",
       "\n",
       "   Dependents_EMI_mean  Loan_Amount_Term_per_Total_Income  \\\n",
       "0          1121.618947                           0.061549   \n",
       "1          1234.899985                           0.059104   \n",
       "2          1121.618947                           0.120000   \n",
       "3          1121.618947                           0.072860   \n",
       "4          1121.618947                           0.060000   \n",
       "\n",
       "   EMI_per_Loan_Amount_Term  EMI_per_LoanAmount  \\\n",
       "0                  2.449822            0.008399   \n",
       "1                  2.986449            0.008399   \n",
       "2                  1.539888            0.008399   \n",
       "3                  2.799796            0.008399   \n",
       "4                  3.289761            0.008399   \n",
       "\n",
       "   Property_Area_LoanAmount_per_Total_Income_mean  Loan_Amount_Term_Bins  \\\n",
       "0                                       23.360438                    1.0   \n",
       "1                                       23.988448                    1.0   \n",
       "2                                       23.360438                    1.0   \n",
       "3                                       23.360438                    1.0   \n",
       "4                                       23.360438                    1.0   \n",
       "\n",
       "   Total_Income_Bins  LoanAmount_per_Total_Income_Bins  Gender_Male  \\\n",
       "0                2.0                               1.0            1   \n",
       "1                3.0                               1.0            1   \n",
       "2                0.0                               1.0            1   \n",
       "3                2.0                               2.0            1   \n",
       "4                3.0                               2.0            1   \n",
       "\n",
       "   Married_Yes  Education_Not Graduate  Self_Employed_Yes  \n",
       "0            0                       0                  0  \n",
       "1            1                       0                  0  \n",
       "2            1                       0                  1  \n",
       "3            1                       1                  0  \n",
       "4            0                       0                  0  "
      ]
     },
     "execution_count": 211,
     "metadata": {},
     "output_type": "execute_result"
    }
   ],
   "source": [
    "train_df.head()"
   ]
  },
  {
   "cell_type": "code",
   "execution_count": 212,
   "id": "7bdf3c11",
   "metadata": {},
   "outputs": [],
   "source": [
    "#Drop target variable from X and copy to y\n",
    "X=train_df.drop(['Loan_Status'],axis=1)\n",
    "y=train_df['Loan_Status']"
   ]
  },
  {
   "cell_type": "code",
   "execution_count": 213,
   "id": "01cdff2d",
   "metadata": {},
   "outputs": [
    {
     "name": "stdout",
     "output_type": "stream",
     "text": [
      "Train dataset shape: (491, 19), \n",
      "Test dataset shape: (123, 19)\n"
     ]
    }
   ],
   "source": [
    "#Train-test split (80:20)\n",
    "from sklearn.model_selection import train_test_split, cross_val_predict,cross_validate\n",
    "train_x, test_x, train_y, test_y = train_test_split(X, y, test_size=0.2, random_state=2)\n",
    "\n",
    "print(\"Train dataset shape: {0}, \\nTest dataset shape: {1}\".format(train_x.shape, test_x.shape))"
   ]
  },
  {
   "cell_type": "code",
   "execution_count": 215,
   "id": "bcd92ae9",
   "metadata": {},
   "outputs": [],
   "source": [
    "### Standard scaling using StandardScaler ###\n",
    "from sklearn.preprocessing import StandardScaler\n",
    "sc = StandardScaler()\n",
    "train_x = sc.fit_transform(train_x)\n",
    "test_x = sc.transform(test_x)\n",
    "X_main_test_sc =  sc.transform(test_df)"
   ]
  },
  {
   "cell_type": "markdown",
   "id": "c3c872ae",
   "metadata": {},
   "source": [
    "### Step 5: Model Building"
   ]
  },
  {
   "cell_type": "code",
   "execution_count": 216,
   "id": "4c6ab807",
   "metadata": {},
   "outputs": [
    {
     "name": "stdout",
     "output_type": "stream",
     "text": [
      "Accuracy =  73.0\n"
     ]
    }
   ],
   "source": [
    "#Load classifiers and accurcy score\n",
    "from sklearn.linear_model import LogisticRegression\n",
    "from sklearn.metrics import accuracy_score\n",
    "\n",
    "# Train model\n",
    "clf_0 = LogisticRegression().fit(train_x, train_y)\n",
    "\n",
    "# Predict on test set\n",
    "pred_y_0 = clf_0.predict(test_x)\n",
    "\n",
    "# How's the accuracy?\n",
    "print( \"Accuracy = \" ,accuracy_score(pred_y_0, test_y).round(2) * 100)"
   ]
  },
  {
   "cell_type": "code",
   "execution_count": 217,
   "id": "00f56f32",
   "metadata": {},
   "outputs": [
    {
     "data": {
      "text/plain": [
       "Text(89.18, 0.5, 'Predicted')"
      ]
     },
     "execution_count": 217,
     "metadata": {},
     "output_type": "execute_result"
    },
    {
     "data": {
      "image/png": "[encoded data removed]",
      "text/plain": [
       "<Figure size 432x288 with 1 Axes>"
      ]
     },
     "metadata": {},
     "output_type": "display_data"
    }
   ],
   "source": [
    "from sklearn.metrics import accuracy_score, confusion_matrix\n",
    "cm = confusion_matrix(test_y,pred_y_0) \n",
    "sns.heatmap(cm, square=True, annot=True, cbar=False,  cmap=\"YlGnBu\" ,fmt='g')\n",
    "plt.xlabel('Truth')\n",
    "plt.ylabel('Predicted')"
   ]
  },
  {
   "cell_type": "code",
   "execution_count": 226,
   "id": "30f4feca",
   "metadata": {},
   "outputs": [
    {
     "data": {
      "text/plain": [
       "array([[-1.57375810e-16,  1.10000000e+05,  3.60000000e+02, ...,\n",
       "         1.00000000e+00,  4.34140164e-17, -3.97961817e-17],\n",
       "       [ 1.00000000e+00,  1.26000000e+05,  3.60000000e+02, ...,\n",
       "         1.00000000e+00,  4.34140164e-17, -3.97961817e-17],\n",
       "       [ 2.00000000e+00,  2.08000000e+05,  3.60000000e+02, ...,\n",
       "         1.00000000e+00,  4.34140164e-17, -3.97961817e-17],\n",
       "       ...,\n",
       "       [-1.57375810e-16,  1.26000000e+05,  3.60000000e+02, ...,\n",
       "        -3.61783470e-17,  4.34140164e-17, -3.97961817e-17],\n",
       "       [-1.57375810e-16,  1.58000000e+05,  3.60000000e+02, ...,\n",
       "         1.00000000e+00,  4.34140164e-17, -3.97961817e-17],\n",
       "       [-1.57375810e-16,  9.80000000e+04,  1.80000000e+02, ...,\n",
       "        -3.61783470e-17,  4.34140164e-17,  1.00000000e+00]])"
      ]
     },
     "execution_count": 226,
     "metadata": {},
     "output_type": "execute_result"
    }
   ],
   "source": [
    "X_main_test_sc"
   ]
  },
  {
   "cell_type": "code",
   "execution_count": 224,
   "id": "8d3635d7",
   "metadata": {},
   "outputs": [],
   "source": [
    "#Predict on actual test dataset for final prediction\n",
    "pred_test = clf_0.predict(X_main_test_sc)"
   ]
  },
  {
   "cell_type": "code",
   "execution_count": 225,
   "id": "89724f58",
   "metadata": {},
   "outputs": [
    {
     "data": {
      "text/plain": [
       "array([0, 0, 0, 0, 0, 0, 0, 0, 0, 0, 0, 0, 0, 0, 0, 0, 0, 0, 0, 0, 0, 0,\n",
       "       0, 0, 0, 0, 0, 0, 0, 0, 0, 0, 0, 0, 0, 0, 0, 0, 0, 0, 0, 0, 0, 0,\n",
       "       0, 0, 0, 0, 0, 0, 0, 0, 0, 0, 0, 0, 0, 0, 0, 0, 0, 0, 0, 0, 0, 0,\n",
       "       0, 0, 0, 0, 0, 0, 0, 0, 0, 0, 0, 0, 0, 0, 0, 0, 0, 0, 0, 0, 0, 0,\n",
       "       0, 0, 0, 0, 0, 0, 0, 0, 0, 0, 0, 0, 0, 0, 0, 0, 0, 0, 0, 0, 0, 0,\n",
       "       0, 0, 0, 0, 0, 0, 0, 0, 0, 0, 0, 0, 0, 0, 0, 0, 0, 0, 0, 0, 0, 0,\n",
       "       0, 0, 0, 0, 0, 0, 0, 0, 0, 0, 0, 0, 0, 0, 0, 0, 0, 0, 0, 0, 0, 0,\n",
       "       0, 0, 0, 0, 0, 0, 0, 0, 0, 0, 0, 0, 0, 0, 0, 0, 0, 0, 0, 0, 0, 0,\n",
       "       0, 0, 0, 0, 0, 0, 0, 0, 0, 0, 0, 0, 0, 0, 0, 0, 0, 0, 0, 0, 0, 0,\n",
       "       0, 0, 0, 0, 0, 0, 0, 0, 0, 0, 0, 0, 0, 0, 0, 0, 0, 0, 0, 0, 0, 0,\n",
       "       0, 0, 0, 0, 0, 0, 0, 0, 0, 0, 0, 0, 0, 0, 0, 0, 0, 0, 0, 0, 0, 0,\n",
       "       0, 0, 0, 0, 0, 0, 0, 0, 0, 0, 0, 0, 0, 0, 0, 0, 0, 0, 0, 0, 0, 0,\n",
       "       0, 0, 0, 0, 0, 0, 0, 0, 0, 0, 0, 0, 0, 0, 0, 0, 0, 0, 0, 0, 0, 0,\n",
       "       0, 0, 0, 0, 0, 0, 0, 0, 0, 0, 0, 0, 0, 0, 0, 0, 0, 0, 0, 0, 0, 0,\n",
       "       0, 0, 0, 0, 0, 0, 0, 0, 0, 0, 0, 0, 0, 0, 0, 0, 0, 0, 0, 0, 0, 0,\n",
       "       0, 0, 0, 0, 0, 0, 0, 0, 0, 0, 0, 0, 0, 0, 0, 0, 0, 0, 0, 0, 0, 0,\n",
       "       0, 0, 0, 0, 0, 0, 0, 0, 0, 0, 0, 0, 0, 0, 0], dtype=int64)"
      ]
     },
     "execution_count": 225,
     "metadata": {},
     "output_type": "execute_result"
    }
   ],
   "source": [
    "pred_test"
   ]
  },
  {
   "cell_type": "code",
   "execution_count": 223,
   "id": "ec9e8278",
   "metadata": {},
   "outputs": [],
   "source": [
    "#Predict on actual test dataset for final prediction\n",
    "pred_test = clf_0.predict(X_main_test_sc)\n",
    "\n",
    "#If the predict value is > 0.5 then insert 'Y', else insert 'N'\n",
    "predictions_test_final = [ 'Y' if y>=0.01 else 'N' for y in pred_test]\n",
    "\n",
    "submission['Loan_Status'] = predictions_test_final\n",
    "submission.to_csv('./Balamurugan_Loan_Status.csv',index=False)"
   ]
  }
 ],
 "metadata": {
  "kernelspec": {
   "display_name": "Python 3 (ipykernel)",
   "language": "python",
   "name": "python3"
  },
  "language_info": {
   "codemirror_mode": {
    "name": "ipython",
    "version": 3
   },
   "file_extension": ".py",
   "mimetype": "text/x-python",
   "name": "python",
   "nbconvert_exporter": "python",
   "pygments_lexer": "ipython3",
   "version": "3.8.0"
  }
 },
 "nbformat": 4,
 "nbformat_minor": 5
}
